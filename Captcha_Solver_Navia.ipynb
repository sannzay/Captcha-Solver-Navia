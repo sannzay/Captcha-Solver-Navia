{
  "nbformat": 4,
  "nbformat_minor": 0,
  "metadata": {
    "colab": {
      "name": "Captcha Solver Navia",
      "provenance": [],
      "collapsed_sections": []
    },
    "kernelspec": {
      "display_name": "Python 3",
      "language": "python",
      "name": "python3"
    },
    "language_info": {
      "codemirror_mode": {
        "name": "ipython",
        "version": 3
      },
      "file_extension": ".py",
      "mimetype": "text/x-python",
      "name": "python",
      "nbconvert_exporter": "python",
      "pygments_lexer": "ipython3",
      "version": "3.7.0"
    }
  },
  "cells": [
    {
      "cell_type": "markdown",
      "metadata": {
        "id": "TmMxuoUoPj-p"
      },
      "source": [
        "# Captcha Solver using CNN and RNN Architecture"
      ]
    },
    {
      "cell_type": "markdown",
      "metadata": {
        "id": "UxWVbcgxN2nD"
      },
      "source": [
        "### Few of the Assumptions: \n",
        "\n",
        "1. The captcha length would be 5 characters.\n",
        "2. The data which is added in the later stages might contain alpha characters.\n",
        "3. All the future additional data will have the same dimentions and file format.\n",
        "4. All the future additional data would have the same black text on the white background (orelse more pre-processing is required).  "
      ]
    },
    {
      "cell_type": "markdown",
      "metadata": {
        "id": "WKGw8t9OP2UN"
      },
      "source": [
        "### Corrections in the dataset:\n",
        "1. Few files provided in the labelled dataset didn't have proper fileformat as the rest of them (.png).\n",
        "2. Corrected few incorrectly labelled images. Example: 141931, 42422. \n",
        "These examples will not allow to perform batch training if not corrected as the architecture assumes all the images in a batch has same number of digits."
      ]
    },
    {
      "cell_type": "markdown",
      "metadata": {
        "id": "njBw4MPGQ1W1"
      },
      "source": [
        "### Previous attempts:\n",
        "\n",
        "1. Experimented with methods similar to recognizing and seperating indivual letters using Opencv and comparing the vectorial space to indentify the letters. Similar methods can be found here: https://thepythonguru.com/decoding-captchas-using-python/. \n",
        "This method of comparing the vector space seemed more time consuming than a DNN inference function. As the process requires to analyse each pixel by pixel serially. \n",
        "\n",
        "2. Experimented to use Opencv image pre-processing/manipulation techniques and Pytesseract to recognize the letters. http://www.robindavid.fr/opencv-tutorial/cracking-basic-captchas-with-opencv.html \n",
        "Though this method seemed simple to execute the results were not satisfactory."
      ]
    },
    {
      "cell_type": "code",
      "metadata": {
        "id": "lfl5CIosP1E9"
      },
      "source": [
        ""
      ],
      "execution_count": null,
      "outputs": []
    },
    {
      "cell_type": "markdown",
      "metadata": {
        "id": "wpjQCloRTa9w"
      },
      "source": [
        "### CNN + RNN + CTC Loss Implementation:\n",
        "\n",
        "Even though the intention was to create as simple models as possible (above mentioned previous experiments) to get a good results using DNN was plauisble. Intitially started implementing simple CNN models but the results were not satisfactory as the requirements of data size for such simple CNN is huge. So I researched and found out an architecture that seemingly performs well for our usecase. \n",
        "\n",
        "This CNN + RNN + CTC loss architecture is quite succesful in the community for simple alphanumeric captcha recognition. This architectere implementation is taken directly from keras documentation blogs. "
      ]
    },
    {
      "cell_type": "code",
      "metadata": {
        "id": "5P2V1f5BQ0O1"
      },
      "source": [
        ""
      ],
      "execution_count": null,
      "outputs": []
    },
    {
      "cell_type": "code",
      "metadata": {
        "id": "-TLtCoUz4bfL"
      },
      "source": [
        "import os\n",
        "import numpy as np\n",
        "import matplotlib.pyplot as plt\n",
        "\n",
        "from pathlib import Path\n",
        "from collections import Counter\n",
        "\n",
        "import tensorflow as tf\n",
        "from tensorflow import keras\n",
        "from tensorflow.keras import layers\n"
      ],
      "execution_count": 43,
      "outputs": []
    },
    {
      "cell_type": "code",
      "metadata": {
        "id": "a-NVvnrb4bfN"
      },
      "source": [
        "#unzip the dataset\n",
        "!unzip /content/electoral-tagged1.zip"
      ],
      "execution_count": null,
      "outputs": []
    },
    {
      "cell_type": "markdown",
      "metadata": {
        "id": "ZZoH4tLF4bfO"
      },
      "source": [
        "Uploading all the image files of our training data and labelling them with theirs file names (omiting the '.png')"
      ]
    },
    {
      "cell_type": "code",
      "metadata": {
        "id": "1nG0mej14bfP",
        "colab": {
          "base_uri": "https://localhost:8080/"
        },
        "outputId": "d96c83b9-a72e-4e40-e577-e084d37f9c87"
      },
      "source": [
        "\n",
        "# Path to the data directory\n",
        "data_dir = Path(\"/content/electoral-tagged\")\n",
        "\n",
        "# Get list of all the images\n",
        "images = sorted(list(map(str, list(data_dir.glob(\"*.png\")))))\n",
        "labels = [img.split(os.path.sep)[-1].split(\".png\")[0] for img in images]\n",
        "characters = set(char for label in labels for char in label)\n",
        "\n",
        "print(\"Number of images found: \", len(images))\n",
        "print(\"Number of labels found: \", len(labels))\n",
        "\n",
        "batch_size = 16\n",
        "img_width = 130\n",
        "img_height = 42\n",
        "downsample_factor = 4\n",
        "\n",
        "max_length = max([len(label) for label in labels])\n"
      ],
      "execution_count": 45,
      "outputs": [
        {
          "output_type": "stream",
          "name": "stdout",
          "text": [
            "Number of images found:  938\n",
            "Number of labels found:  938\n"
          ]
        }
      ]
    },
    {
      "cell_type": "markdown",
      "metadata": {
        "id": "cu5O4Vo94bfQ"
      },
      "source": [
        "## Preprocessing"
      ]
    },
    {
      "cell_type": "code",
      "metadata": {
        "id": "OLN7N2ln4bfR"
      },
      "source": [
        "\n",
        "# Mapping characters to integers\n",
        "char_to_num = layers.StringLookup(\n",
        "    vocabulary=list(characters), mask_token=None\n",
        ")\n",
        "\n",
        "# Mapping integers back to original characters\n",
        "num_to_char = layers.StringLookup(\n",
        "    vocabulary=char_to_num.get_vocabulary(), mask_token=None, invert=True\n",
        ")\n",
        "\n",
        "\n",
        "def split_data(images, labels, train_size=0.9, shuffle=True):\n",
        "    size = len(images)\n",
        "    indices = np.arange(size)\n",
        "    if shuffle:\n",
        "        np.random.shuffle(indices)\n",
        "    train_samples = int(size * train_size)\n",
        "    x_train, y_train = images[indices[:train_samples]], labels[indices[:train_samples]]\n",
        "    x_valid, y_valid = images[indices[train_samples:]], labels[indices[train_samples:]]\n",
        "    return x_train, x_valid, y_train, y_valid\n",
        "\n",
        "\n",
        "# Splitting data into training and validation sets\n",
        "x_train, x_valid, y_train, y_valid = split_data(np.array(images), np.array(labels))\n",
        "\n",
        "\n",
        "def encode_single_sample(img_path, label):\n",
        "    img = tf.io.read_file(img_path)\n",
        "    img = tf.io.decode_png(img, channels=1)\n",
        "    img = tf.image.convert_image_dtype(img, tf.float32)\n",
        "    img = tf.image.resize(img, [img_height, img_width])\n",
        "    img = tf.transpose(img, perm=[1, 0, 2])\n",
        "    label = char_to_num(tf.strings.unicode_split(label, input_encoding=\"UTF-8\"))\n",
        "    return {\"image\": img, \"label\": label}\n"
      ],
      "execution_count": 36,
      "outputs": []
    },
    {
      "cell_type": "markdown",
      "metadata": {
        "id": "6enZUGk74bfS"
      },
      "source": [
        "## Create Dataset objects"
      ]
    },
    {
      "cell_type": "code",
      "metadata": {
        "id": "zGcENz5u4bfS"
      },
      "source": [
        "\n",
        "train_dataset = tf.data.Dataset.from_tensor_slices((x_train, y_train))\n",
        "train_dataset = (\n",
        "    train_dataset.map(\n",
        "        encode_single_sample, num_parallel_calls=tf.data.AUTOTUNE\n",
        "    )\n",
        "    .batch(batch_size)\n",
        "    .prefetch(buffer_size=tf.data.AUTOTUNE)\n",
        ")\n",
        "\n",
        "validation_dataset = tf.data.Dataset.from_tensor_slices((x_valid, y_valid))\n",
        "validation_dataset = (\n",
        "    validation_dataset.map(\n",
        "        encode_single_sample, num_parallel_calls=tf.data.AUTOTUNE\n",
        "    )\n",
        "    .batch(batch_size)\n",
        "    .prefetch(buffer_size=tf.data.AUTOTUNE)\n",
        ")"
      ],
      "execution_count": 37,
      "outputs": []
    },
    {
      "cell_type": "markdown",
      "metadata": {
        "id": "nrrAj6OR4bfT"
      },
      "source": [
        "## Visualize the data"
      ]
    },
    {
      "cell_type": "code",
      "metadata": {
        "id": "wHVAFKod4bfU",
        "colab": {
          "base_uri": "https://localhost:8080/",
          "height": 299
        },
        "outputId": "df631425-59db-43d0-9ba4-8710797ad6f6"
      },
      "source": [
        "\n",
        "_, ax = plt.subplots(4, 4, figsize=(10, 5))\n",
        "for batch in train_dataset.take(1):\n",
        "    images = batch[\"image\"]\n",
        "    labels = batch[\"label\"]\n",
        "    for i in range(16):\n",
        "        img = (images[i] * 255).numpy().astype(\"uint8\")\n",
        "        label = tf.strings.reduce_join(num_to_char(labels[i])).numpy().decode(\"utf-8\")\n",
        "        ax[i // 4, i % 4].imshow(img[:, :, 0].T, cmap=\"gray\")\n",
        "        ax[i // 4, i % 4].set_title(label)\n",
        "        ax[i // 4, i % 4].axis(\"off\")\n",
        "plt.show()"
      ],
      "execution_count": 38,
      "outputs": [
        {
          "output_type": "display_data",
          "data": {
            "image/png": "[encoded data removed]",
            "text/plain": [
              "<Figure size 720x360 with 16 Axes>"
            ]
          },
          "metadata": {
            "needs_background": "light"
          }
        }
      ]
    },
    {
      "cell_type": "markdown",
      "metadata": {
        "id": "0ORI954M4bfV"
      },
      "source": [
        "## Model"
      ]
    },
    {
      "cell_type": "code",
      "metadata": {
        "id": "Zj1X3J2c4bfV",
        "colab": {
          "base_uri": "https://localhost:8080/"
        },
        "outputId": "ff2ff03c-b720-4b7a-f47d-d701a0dcad0a"
      },
      "source": [
        "\n",
        "class CTCLayer(layers.Layer):\n",
        "    def __init__(self, name=None):\n",
        "        super().__init__(name=name)\n",
        "        self.loss_fn = keras.backend.ctc_batch_cost\n",
        "\n",
        "    def call(self, y_true, y_pred):\n",
        "        # Compute the training-time loss value and add it\n",
        "        # to the layer using `self.add_loss()`.\n",
        "        batch_len = tf.cast(tf.shape(y_true)[0], dtype=\"int64\")\n",
        "        input_length = tf.cast(tf.shape(y_pred)[1], dtype=\"int64\")\n",
        "        label_length = tf.cast(tf.shape(y_true)[1], dtype=\"int64\")\n",
        "\n",
        "        input_length = input_length * tf.ones(shape=(batch_len, 1), dtype=\"int64\")\n",
        "        label_length = label_length * tf.ones(shape=(batch_len, 1), dtype=\"int64\")\n",
        "\n",
        "        loss = self.loss_fn(y_true, y_pred, input_length, label_length)\n",
        "        self.add_loss(loss)\n",
        "\n",
        "        return y_pred\n",
        "\n",
        "\n",
        "def build_model():\n",
        "    # Inputs to the model\n",
        "    input_img = layers.Input(\n",
        "        shape=(img_width, img_height, 1), name=\"image\", dtype=\"float32\"\n",
        "    )\n",
        "    labels = layers.Input(name=\"label\", shape=(None,), dtype=\"float32\")\n",
        "\n",
        "    # First conv block\n",
        "    x = layers.Conv2D(\n",
        "        32,\n",
        "        (3, 3),\n",
        "        activation=\"relu\",\n",
        "        kernel_initializer=\"he_normal\",\n",
        "        padding=\"same\",\n",
        "        name=\"Conv1\",\n",
        "    )(input_img)\n",
        "    x = layers.MaxPooling2D((2, 2), name=\"pool1\")(x)\n",
        "\n",
        "    # Second conv block\n",
        "    x = layers.Conv2D(\n",
        "        64,\n",
        "        (3, 3),\n",
        "        activation=\"relu\",\n",
        "        kernel_initializer=\"he_normal\",\n",
        "        padding=\"same\",\n",
        "        name=\"Conv2\",\n",
        "    )(x)\n",
        "    x = layers.MaxPooling2D((2, 2), name=\"pool2\")(x)\n",
        "\n",
        "    new_shape = ((img_width // 4), (img_height // 4) * 64)\n",
        "    x = layers.Reshape(target_shape=new_shape, name=\"reshape\")(x)\n",
        "    x = layers.Dense(64, activation=\"relu\", name=\"dense1\")(x)\n",
        "    x = layers.Dropout(0.2)(x)\n",
        "\n",
        "    # RNNs\n",
        "    x = layers.Bidirectional(layers.LSTM(128, return_sequences=True, dropout=0.25))(x)\n",
        "    x = layers.Bidirectional(layers.LSTM(64, return_sequences=True, dropout=0.25))(x)\n",
        "\n",
        "    # Output layer\n",
        "    x = layers.Dense(\n",
        "        len(char_to_num.get_vocabulary()) + 1, activation=\"softmax\", name=\"dense2\"\n",
        "    )(x)\n",
        "\n",
        "    # Add CTC layer for calculating CTC loss at each step\n",
        "    output = CTCLayer(name=\"ctc_loss\")(labels, x)\n",
        "\n",
        "    # Define the model\n",
        "    model = keras.models.Model(\n",
        "        inputs=[input_img, labels], outputs=output, name=\"ocr_model_v1\"\n",
        "    )\n",
        "    # Optimizer\n",
        "    opt = keras.optimizers.Adam()\n",
        "    # Compile the model and return\n",
        "    model.compile(optimizer=opt)\n",
        "    return model\n",
        "\n",
        "\n",
        "# Get the model\n",
        "model = build_model()\n",
        "model.summary()"
      ],
      "execution_count": 39,
      "outputs": [
        {
          "output_type": "stream",
          "name": "stdout",
          "text": [
            "Model: \"ocr_model_v1\"\n",
            "__________________________________________________________________________________________________\n",
            "Layer (type)                    Output Shape         Param #     Connected to                     \n",
            "==================================================================================================\n",
            "image (InputLayer)              [(None, 130, 42, 1)] 0                                            \n",
            "__________________________________________________________________________________________________\n",
            "Conv1 (Conv2D)                  (None, 130, 42, 32)  320         image[0][0]                      \n",
            "__________________________________________________________________________________________________\n",
            "pool1 (MaxPooling2D)            (None, 65, 21, 32)   0           Conv1[0][0]                      \n",
            "__________________________________________________________________________________________________\n",
            "Conv2 (Conv2D)                  (None, 65, 21, 64)   18496       pool1[0][0]                      \n",
            "__________________________________________________________________________________________________\n",
            "pool2 (MaxPooling2D)            (None, 32, 10, 64)   0           Conv2[0][0]                      \n",
            "__________________________________________________________________________________________________\n",
            "reshape (Reshape)               (None, 32, 640)      0           pool2[0][0]                      \n",
            "__________________________________________________________________________________________________\n",
            "dense1 (Dense)                  (None, 32, 64)       41024       reshape[0][0]                    \n",
            "__________________________________________________________________________________________________\n",
            "dropout_2 (Dropout)             (None, 32, 64)       0           dense1[0][0]                     \n",
            "__________________________________________________________________________________________________\n",
            "bidirectional_4 (Bidirectional) (None, 32, 256)      197632      dropout_2[0][0]                  \n",
            "__________________________________________________________________________________________________\n",
            "bidirectional_5 (Bidirectional) (None, 32, 128)      164352      bidirectional_4[0][0]            \n",
            "__________________________________________________________________________________________________\n",
            "label (InputLayer)              [(None, None)]       0                                            \n",
            "__________________________________________________________________________________________________\n",
            "dense2 (Dense)                  (None, 32, 11)       1419        bidirectional_5[0][0]            \n",
            "__________________________________________________________________________________________________\n",
            "ctc_loss (CTCLayer)             (None, 32, 11)       0           label[0][0]                      \n",
            "                                                                 dense2[0][0]                     \n",
            "==================================================================================================\n",
            "Total params: 423,243\n",
            "Trainable params: 423,243\n",
            "Non-trainable params: 0\n",
            "__________________________________________________________________________________________________\n"
          ]
        }
      ]
    },
    {
      "cell_type": "markdown",
      "metadata": {
        "id": "KES0DZ7A4bfW"
      },
      "source": [
        "## Training"
      ]
    },
    {
      "cell_type": "code",
      "metadata": {
        "id": "nnMn4AeE4bfW",
        "colab": {
          "base_uri": "https://localhost:8080/"
        },
        "outputId": "17466d8d-597d-481e-e2b8-b40783162918"
      },
      "source": [
        "\n",
        "epochs = 100\n",
        "early_stopping_patience = 10\n",
        "# Add early stopping\n",
        "early_stopping = keras.callbacks.EarlyStopping(\n",
        "    monitor=\"val_loss\", patience=early_stopping_patience, restore_best_weights=True\n",
        ")\n",
        "\n",
        "# Train the model\n",
        "history = model.fit(\n",
        "    train_dataset,\n",
        "    validation_data=validation_dataset,\n",
        "    epochs=epochs,\n",
        "    callbacks=[early_stopping]\n",
        ")\n"
      ],
      "execution_count": 40,
      "outputs": [
        {
          "output_type": "stream",
          "name": "stdout",
          "text": [
            "Epoch 1/100\n",
            "53/53 [==============================] - 22s 282ms/step - loss: 14.9928 - val_loss: 12.6863\n",
            "Epoch 2/100\n",
            "53/53 [==============================] - 13s 244ms/step - loss: 12.6928 - val_loss: 12.6605\n",
            "Epoch 3/100\n",
            "53/53 [==============================] - 13s 246ms/step - loss: 12.6778 - val_loss: 12.6502\n",
            "Epoch 4/100\n",
            "53/53 [==============================] - 13s 244ms/step - loss: 12.6711 - val_loss: 12.6582\n",
            "Epoch 5/100\n",
            "53/53 [==============================] - 13s 244ms/step - loss: 12.6568 - val_loss: 12.6703\n",
            "Epoch 6/100\n",
            "53/53 [==============================] - 13s 247ms/step - loss: 12.6487 - val_loss: 12.6160\n",
            "Epoch 7/100\n",
            "53/53 [==============================] - 13s 245ms/step - loss: 12.6364 - val_loss: 12.6066\n",
            "Epoch 8/100\n",
            "53/53 [==============================] - 13s 243ms/step - loss: 12.6310 - val_loss: 12.5720\n",
            "Epoch 9/100\n",
            "53/53 [==============================] - 13s 243ms/step - loss: 12.6203 - val_loss: 12.5413\n",
            "Epoch 10/100\n",
            "53/53 [==============================] - 13s 245ms/step - loss: 12.6143 - val_loss: 12.5368\n",
            "Epoch 11/100\n",
            "53/53 [==============================] - 13s 242ms/step - loss: 12.6013 - val_loss: 12.5451\n",
            "Epoch 12/100\n",
            "53/53 [==============================] - 13s 240ms/step - loss: 12.5996 - val_loss: 12.5449\n",
            "Epoch 13/100\n",
            "53/53 [==============================] - 13s 244ms/step - loss: 12.5797 - val_loss: 12.5749\n",
            "Epoch 14/100\n",
            "53/53 [==============================] - 13s 243ms/step - loss: 12.5669 - val_loss: 12.5208\n",
            "Epoch 15/100\n",
            "53/53 [==============================] - 13s 244ms/step - loss: 12.5477 - val_loss: 12.4720\n",
            "Epoch 16/100\n",
            "53/53 [==============================] - 13s 243ms/step - loss: 12.5350 - val_loss: 12.4622\n",
            "Epoch 17/100\n",
            "53/53 [==============================] - 13s 248ms/step - loss: 12.5237 - val_loss: 12.5028\n",
            "Epoch 18/100\n",
            "53/53 [==============================] - 13s 243ms/step - loss: 12.5119 - val_loss: 12.4333\n",
            "Epoch 19/100\n",
            "53/53 [==============================] - 13s 240ms/step - loss: 12.4974 - val_loss: 12.3772\n",
            "Epoch 20/100\n",
            "53/53 [==============================] - 13s 243ms/step - loss: 12.4829 - val_loss: 12.3554\n",
            "Epoch 21/100\n",
            "53/53 [==============================] - 13s 247ms/step - loss: 12.4806 - val_loss: 12.3361\n",
            "Epoch 22/100\n",
            "53/53 [==============================] - 13s 244ms/step - loss: 12.4561 - val_loss: 12.3404\n",
            "Epoch 23/100\n",
            "53/53 [==============================] - 13s 239ms/step - loss: 12.4485 - val_loss: 12.3149\n",
            "Epoch 24/100\n",
            "53/53 [==============================] - 13s 242ms/step - loss: 12.4304 - val_loss: 12.3151\n",
            "Epoch 25/100\n",
            "53/53 [==============================] - 13s 245ms/step - loss: 12.4213 - val_loss: 12.3059\n",
            "Epoch 26/100\n",
            "53/53 [==============================] - 13s 241ms/step - loss: 12.4069 - val_loss: 12.2928\n",
            "Epoch 27/100\n",
            "53/53 [==============================] - 13s 240ms/step - loss: 12.4013 - val_loss: 12.2942\n",
            "Epoch 28/100\n",
            "53/53 [==============================] - 13s 243ms/step - loss: 12.3997 - val_loss: 12.3059\n",
            "Epoch 29/100\n",
            "53/53 [==============================] - 13s 242ms/step - loss: 12.3911 - val_loss: 12.3127\n",
            "Epoch 30/100\n",
            "53/53 [==============================] - 13s 243ms/step - loss: 12.3770 - val_loss: 12.2880\n",
            "Epoch 31/100\n",
            "53/53 [==============================] - 13s 244ms/step - loss: 12.3701 - val_loss: 12.2720\n",
            "Epoch 32/100\n",
            "53/53 [==============================] - 13s 244ms/step - loss: 12.2974 - val_loss: 12.0365\n",
            "Epoch 33/100\n",
            "53/53 [==============================] - 13s 244ms/step - loss: 11.4177 - val_loss: 11.0540\n",
            "Epoch 34/100\n",
            "53/53 [==============================] - 13s 244ms/step - loss: 11.0599 - val_loss: 11.0239\n",
            "Epoch 35/100\n",
            "53/53 [==============================] - 13s 245ms/step - loss: 11.1534 - val_loss: 11.0436\n",
            "Epoch 36/100\n",
            "53/53 [==============================] - 13s 243ms/step - loss: 11.0296 - val_loss: 11.0158\n",
            "Epoch 37/100\n",
            "53/53 [==============================] - 13s 245ms/step - loss: 11.0245 - val_loss: 11.0242\n",
            "Epoch 38/100\n",
            "53/53 [==============================] - 13s 250ms/step - loss: 11.0288 - val_loss: 11.0085\n",
            "Epoch 39/100\n",
            "53/53 [==============================] - 13s 245ms/step - loss: 11.0099 - val_loss: 11.0203\n",
            "Epoch 40/100\n",
            "53/53 [==============================] - 13s 244ms/step - loss: 11.0107 - val_loss: 11.0392\n",
            "Epoch 41/100\n",
            "53/53 [==============================] - 13s 244ms/step - loss: 10.9988 - val_loss: 11.0492\n",
            "Epoch 42/100\n",
            "53/53 [==============================] - 13s 248ms/step - loss: 11.0061 - val_loss: 11.0394\n",
            "Epoch 43/100\n",
            "53/53 [==============================] - 13s 245ms/step - loss: 10.9633 - val_loss: 10.9141\n",
            "Epoch 44/100\n",
            "53/53 [==============================] - 13s 244ms/step - loss: 10.6006 - val_loss: 10.3042\n",
            "Epoch 45/100\n",
            "53/53 [==============================] - 13s 247ms/step - loss: 9.8895 - val_loss: 9.4998\n",
            "Epoch 46/100\n",
            "53/53 [==============================] - 13s 250ms/step - loss: 9.1766 - val_loss: 8.8479\n",
            "Epoch 47/100\n",
            "53/53 [==============================] - 13s 246ms/step - loss: 8.5433 - val_loss: 8.3941\n",
            "Epoch 48/100\n",
            "53/53 [==============================] - 13s 250ms/step - loss: 8.0879 - val_loss: 8.0480\n",
            "Epoch 49/100\n",
            "53/53 [==============================] - 13s 248ms/step - loss: 7.8580 - val_loss: 7.9056\n",
            "Epoch 50/100\n",
            "53/53 [==============================] - 13s 247ms/step - loss: 7.6545 - val_loss: 7.8077\n",
            "Epoch 51/100\n",
            "53/53 [==============================] - 13s 244ms/step - loss: 7.5817 - val_loss: 7.6062\n",
            "Epoch 52/100\n",
            "53/53 [==============================] - 13s 246ms/step - loss: 7.3352 - val_loss: 7.3733\n",
            "Epoch 53/100\n",
            "53/53 [==============================] - 13s 245ms/step - loss: 7.0768 - val_loss: 7.4509\n",
            "Epoch 54/100\n",
            "53/53 [==============================] - 13s 246ms/step - loss: 6.7509 - val_loss: 6.9593\n",
            "Epoch 55/100\n",
            "53/53 [==============================] - 13s 245ms/step - loss: 6.4683 - val_loss: 6.5827\n",
            "Epoch 56/100\n",
            "53/53 [==============================] - 13s 246ms/step - loss: 6.1919 - val_loss: 6.3689\n",
            "Epoch 57/100\n",
            "53/53 [==============================] - 13s 244ms/step - loss: 5.8184 - val_loss: 6.0351\n",
            "Epoch 58/100\n",
            "53/53 [==============================] - 13s 246ms/step - loss: 5.5474 - val_loss: 5.8727\n",
            "Epoch 59/100\n",
            "53/53 [==============================] - 13s 249ms/step - loss: 5.2671 - val_loss: 5.9342\n",
            "Epoch 60/100\n",
            "53/53 [==============================] - 13s 244ms/step - loss: 5.0950 - val_loss: 5.6111\n",
            "Epoch 61/100\n",
            "53/53 [==============================] - 13s 242ms/step - loss: 4.8227 - val_loss: 5.4125\n",
            "Epoch 62/100\n",
            "53/53 [==============================] - 13s 245ms/step - loss: 4.7245 - val_loss: 5.4936\n",
            "Epoch 63/100\n",
            "53/53 [==============================] - 13s 245ms/step - loss: 4.4373 - val_loss: 5.2234\n",
            "Epoch 64/100\n",
            "53/53 [==============================] - 13s 244ms/step - loss: 4.3156 - val_loss: 5.2321\n",
            "Epoch 65/100\n",
            "53/53 [==============================] - 13s 242ms/step - loss: 4.0906 - val_loss: 5.1620\n",
            "Epoch 66/100\n",
            "53/53 [==============================] - 13s 243ms/step - loss: 3.9558 - val_loss: 5.1814\n",
            "Epoch 67/100\n",
            "53/53 [==============================] - 13s 245ms/step - loss: 3.7651 - val_loss: 4.8446\n",
            "Epoch 68/100\n",
            "53/53 [==============================] - 13s 245ms/step - loss: 3.6098 - val_loss: 4.8642\n",
            "Epoch 69/100\n",
            "53/53 [==============================] - 13s 243ms/step - loss: 3.4307 - val_loss: 4.8530\n",
            "Epoch 70/100\n",
            "53/53 [==============================] - 13s 245ms/step - loss: 3.3359 - val_loss: 4.9433\n",
            "Epoch 71/100\n",
            "53/53 [==============================] - 13s 242ms/step - loss: 3.1923 - val_loss: 4.8110\n",
            "Epoch 72/100\n",
            "53/53 [==============================] - 13s 243ms/step - loss: 3.0480 - val_loss: 4.8103\n",
            "Epoch 73/100\n",
            "53/53 [==============================] - 13s 243ms/step - loss: 2.8161 - val_loss: 4.4822\n",
            "Epoch 74/100\n",
            "53/53 [==============================] - 13s 243ms/step - loss: 2.6451 - val_loss: 4.4674\n",
            "Epoch 75/100\n",
            "53/53 [==============================] - 13s 242ms/step - loss: 2.5027 - val_loss: 4.3099\n",
            "Epoch 76/100\n",
            "53/53 [==============================] - 13s 242ms/step - loss: 2.3432 - val_loss: 4.2487\n",
            "Epoch 77/100\n",
            "53/53 [==============================] - 13s 245ms/step - loss: 2.1788 - val_loss: 4.3279\n",
            "Epoch 78/100\n",
            "53/53 [==============================] - 13s 243ms/step - loss: 2.0349 - val_loss: 4.3375\n",
            "Epoch 79/100\n",
            "53/53 [==============================] - 13s 244ms/step - loss: 2.0016 - val_loss: 4.1118\n",
            "Epoch 80/100\n",
            "53/53 [==============================] - 13s 243ms/step - loss: 1.8024 - val_loss: 3.6697\n",
            "Epoch 81/100\n",
            "53/53 [==============================] - 13s 242ms/step - loss: 1.6349 - val_loss: 4.0947\n",
            "Epoch 82/100\n",
            "53/53 [==============================] - 13s 241ms/step - loss: 1.6058 - val_loss: 3.8352\n",
            "Epoch 83/100\n",
            "53/53 [==============================] - 13s 242ms/step - loss: 1.4141 - val_loss: 3.7206\n",
            "Epoch 84/100\n",
            "53/53 [==============================] - 13s 241ms/step - loss: 1.3025 - val_loss: 3.4785\n",
            "Epoch 85/100\n",
            "53/53 [==============================] - 13s 242ms/step - loss: 1.1669 - val_loss: 3.3950\n",
            "Epoch 86/100\n",
            "53/53 [==============================] - 13s 240ms/step - loss: 1.0378 - val_loss: 3.3874\n",
            "Epoch 87/100\n",
            "53/53 [==============================] - 13s 241ms/step - loss: 0.9466 - val_loss: 3.2132\n",
            "Epoch 88/100\n",
            "53/53 [==============================] - 13s 240ms/step - loss: 0.8940 - val_loss: 2.9521\n",
            "Epoch 89/100\n",
            "53/53 [==============================] - 13s 244ms/step - loss: 0.8374 - val_loss: 2.8584\n",
            "Epoch 90/100\n",
            "53/53 [==============================] - 13s 242ms/step - loss: 0.6955 - val_loss: 2.7902\n",
            "Epoch 91/100\n",
            "53/53 [==============================] - 13s 241ms/step - loss: 0.6708 - val_loss: 2.8209\n",
            "Epoch 92/100\n",
            "53/53 [==============================] - 13s 243ms/step - loss: 0.6684 - val_loss: 2.7818\n",
            "Epoch 93/100\n",
            "53/53 [==============================] - 13s 243ms/step - loss: 0.5610 - val_loss: 2.5519\n",
            "Epoch 94/100\n",
            "53/53 [==============================] - 13s 246ms/step - loss: 0.5739 - val_loss: 2.8613\n",
            "Epoch 95/100\n",
            "53/53 [==============================] - 13s 244ms/step - loss: 0.4947 - val_loss: 2.7282\n",
            "Epoch 96/100\n",
            "53/53 [==============================] - 13s 244ms/step - loss: 0.5044 - val_loss: 2.5392\n",
            "Epoch 97/100\n",
            "53/53 [==============================] - 13s 242ms/step - loss: 0.4493 - val_loss: 2.4099\n",
            "Epoch 98/100\n",
            "53/53 [==============================] - 13s 242ms/step - loss: 0.4001 - val_loss: 2.3583\n",
            "Epoch 99/100\n",
            "53/53 [==============================] - 13s 245ms/step - loss: 0.3833 - val_loss: 2.5650\n",
            "Epoch 100/100\n",
            "53/53 [==============================] - 13s 243ms/step - loss: 0.4250 - val_loss: 2.2795\n"
          ]
        }
      ]
    },
    {
      "cell_type": "code",
      "metadata": {
        "colab": {
          "base_uri": "https://localhost:8080/"
        },
        "id": "X76arwpyLh6o",
        "outputId": "b3d8fbd2-2091-4665-a54e-b1c46c981e0d"
      },
      "source": [
        "#Save the model\n",
        "model.save('/content/model1')"
      ],
      "execution_count": 41,
      "outputs": [
        {
          "output_type": "stream",
          "name": "stderr",
          "text": [
            "WARNING:absl:Found untraced functions such as lstm_cell_13_layer_call_and_return_conditional_losses, lstm_cell_13_layer_call_fn, lstm_cell_14_layer_call_and_return_conditional_losses, lstm_cell_14_layer_call_fn, lstm_cell_16_layer_call_and_return_conditional_losses while saving (showing 5 of 20). These functions will not be directly callable after loading.\n"
          ]
        },
        {
          "output_type": "stream",
          "name": "stdout",
          "text": [
            "INFO:tensorflow:Assets written to: /content/model1/assets\n"
          ]
        },
        {
          "output_type": "stream",
          "name": "stderr",
          "text": [
            "INFO:tensorflow:Assets written to: /content/model1/assets\n"
          ]
        }
      ]
    },
    {
      "cell_type": "markdown",
      "metadata": {
        "id": "KWCGd5n_4bfX"
      },
      "source": [
        "## Inference"
      ]
    },
    {
      "cell_type": "code",
      "metadata": {
        "id": "9WED2Kj44bfX",
        "colab": {
          "base_uri": "https://localhost:8080/",
          "height": 824
        },
        "outputId": "704f4329-97eb-4056-a318-fc86fe7e0619"
      },
      "source": [
        "prediction_model = keras.models.Model(\n",
        "    model.get_layer(name=\"image\").input, model.get_layer(name=\"dense2\").output\n",
        ")\n",
        "prediction_model.summary()\n",
        "\n",
        "# A utility function to decode the output of the network\n",
        "def decode_batch_predictions(pred):\n",
        "    input_len = np.ones(pred.shape[0]) * pred.shape[1]\n",
        "    results = keras.backend.ctc_decode(pred, input_length=input_len, greedy=True)[0][0][\n",
        "        :, :max_length\n",
        "    ]\n",
        "    output_text = []\n",
        "    for res in results:\n",
        "        res = tf.strings.reduce_join(num_to_char(res)).numpy().decode(\"utf-8\")\n",
        "        output_text.append(res)\n",
        "    return output_text\n",
        "\n",
        "\n",
        "#  Results on some validation samples\n",
        "for batch in validation_dataset.take(1):\n",
        "    batch_images = batch[\"image\"]\n",
        "    batch_labels = batch[\"label\"]\n",
        "\n",
        "    preds = prediction_model.predict(batch_images)\n",
        "    pred_texts = decode_batch_predictions(preds)\n",
        "\n",
        "    orig_texts = []\n",
        "    for label in batch_labels:\n",
        "        label = tf.strings.reduce_join(num_to_char(label)).numpy().decode(\"utf-8\")\n",
        "        orig_texts.append(label)\n",
        "\n",
        "    _, ax = plt.subplots(4, 4, figsize=(15, 5))\n",
        "    for i in range(len(pred_texts)):\n",
        "        img = (batch_images[i, :, :, 0] * 255).numpy().astype(np.uint8)\n",
        "        img = img.T\n",
        "        title = f\"Prediction: {pred_texts[i]}\"\n",
        "        ax[i // 4, i % 4].imshow(img, cmap=\"gray\")\n",
        "        ax[i // 4, i % 4].set_title(title)\n",
        "        ax[i // 4, i % 4].axis(\"off\")\n",
        "plt.show()"
      ],
      "execution_count": 42,
      "outputs": [
        {
          "output_type": "stream",
          "name": "stdout",
          "text": [
            "Model: \"model\"\n",
            "_________________________________________________________________\n",
            "Layer (type)                 Output Shape              Param #   \n",
            "=================================================================\n",
            "image (InputLayer)           [(None, 130, 42, 1)]      0         \n",
            "_________________________________________________________________\n",
            "Conv1 (Conv2D)               (None, 130, 42, 32)       320       \n",
            "_________________________________________________________________\n",
            "pool1 (MaxPooling2D)         (None, 65, 21, 32)        0         \n",
            "_________________________________________________________________\n",
            "Conv2 (Conv2D)               (None, 65, 21, 64)        18496     \n",
            "_________________________________________________________________\n",
            "pool2 (MaxPooling2D)         (None, 32, 10, 64)        0         \n",
            "_________________________________________________________________\n",
            "reshape (Reshape)            (None, 32, 640)           0         \n",
            "_________________________________________________________________\n",
            "dense1 (Dense)               (None, 32, 64)            41024     \n",
            "_________________________________________________________________\n",
            "dropout_2 (Dropout)          (None, 32, 64)            0         \n",
            "_________________________________________________________________\n",
            "bidirectional_4 (Bidirection (None, 32, 256)           197632    \n",
            "_________________________________________________________________\n",
            "bidirectional_5 (Bidirection (None, 32, 128)           164352    \n",
            "_________________________________________________________________\n",
            "dense2 (Dense)               (None, 32, 11)            1419      \n",
            "=================================================================\n",
            "Total params: 423,243\n",
            "Trainable params: 423,243\n",
            "Non-trainable params: 0\n",
            "_________________________________________________________________\n"
          ]
        },
        {
          "output_type": "display_data",
          "data": {
            "image/png": "[encoded data removed]",
            "text/plain": [
              "<Figure size 1080x360 with 16 Axes>"
            ]
          },
          "metadata": {
            "needs_background": "light"
          }
        }
      ]
    },
    {
      "cell_type": "code",
      "metadata": {
        "id": "vXPTByoZHnYH"
      },
      "source": [
        ""
      ],
      "execution_count": 42,
      "outputs": []
    },
    {
      "cell_type": "code",
      "metadata": {
        "id": "pzXWz0_LB8nM"
      },
      "source": [
        "# Use the following snippet to load the previously trained model for further inference.\n",
        "model1 = keras.models.load_model('/content/model1')"
      ],
      "execution_count": 47,
      "outputs": []
    },
    {
      "cell_type": "code",
      "metadata": {
        "id": "dfE0GrKKWtSt"
      },
      "source": [
        ""
      ],
      "execution_count": 48,
      "outputs": []
    },
    {
      "cell_type": "code",
      "metadata": {
        "id": "ITPiq8cWXqs1"
      },
      "source": [
        ""
      ],
      "execution_count": null,
      "outputs": []
    }
  ]
}